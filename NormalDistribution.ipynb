{
 "cells": [
  {
   "cell_type": "markdown",
   "metadata": {},
   "source": [
    "Import the required library"
   ]
  },
  {
   "cell_type": "code",
   "execution_count": 1,
   "metadata": {},
   "outputs": [],
   "source": [
    "import ipywidgets as widgets\n",
    "from scipy import stats\n",
    "import numpy as np\n",
    "import matplotlib.pyplot as plt"
   ]
  },
  {
   "cell_type": "markdown",
   "metadata": {},
   "source": [
    "Normal Distribution Simulation"
   ]
  },
  {
   "cell_type": "code",
   "execution_count": 8,
   "metadata": {},
   "outputs": [
    {
     "data": {
      "application/vnd.jupyter.widget-view+json": {
       "model_id": "b9565f9a04f74565b83fd9a35dabf383",
       "version_major": 2,
       "version_minor": 0
      },
      "text/plain": [
       "interactive(children=(FloatSlider(value=150.0, description='Mean', max=300.0), FloatSlider(value=50.0, descrip…"
      ]
     },
     "metadata": {},
     "output_type": "display_data"
    }
   ],
   "source": [
    "def update_plot(x_mean, x_std, x_total):\n",
    "    plt.style.use(\"ggplot\")\n",
    "    fig = plt.figure(1); plt.clf()\n",
    "    ax = fig.add_subplot(1,1,1)\n",
    "    x = np.random.normal(x_mean, x_std, x_total)\n",
    "    domain = np.linspace(-200, 500, x_total)\n",
    "    ax.hist(x, rwidth = 0.9, density = True, label = \"Data\")\n",
    "    ax.plot(domain, stats.norm.pdf(domain,x_mean,x_std), label = \"Estimated\")\n",
    "    ax.legend()\n",
    "    plt.show()\n",
    "\n",
    "x_mean = widgets.FloatSlider(min=0, max=300,value=150,description=\"Mean\")\n",
    "x_std = widgets.FloatSlider(min=10, max=100,value=50,description=\"Standard deviation\")\n",
    "x_total = widgets.IntSlider(min=10, max=1000,value=500,description=\"Total data\")\n",
    "\n",
    "widgets.interactive(update_plot, x_mean=x_mean, x_std=x_std, x_total=x_total)"
   ]
  },
  {
   "cell_type": "markdown",
   "metadata": {},
   "source": [
    "You can see that if the mean is low than the graph will show on the left side, if the mean is high than the graph will show on the right. The shape of the graph will change if you change the standard deviation, the lower your standard deviation the higher your graph ,while the higher your standard deviation the graph will be lower and wider."
   ]
  }
 ],
 "metadata": {
  "kernelspec": {
   "display_name": "Python 3",
   "language": "python",
   "name": "python3"
  },
  "language_info": {
   "codemirror_mode": {
    "name": "ipython",
    "version": 3
   },
   "file_extension": ".py",
   "mimetype": "text/x-python",
   "name": "python",
   "nbconvert_exporter": "python",
   "pygments_lexer": "ipython3",
   "version": "3.7.4"
  }
 },
 "nbformat": 4,
 "nbformat_minor": 4
}
