{
 "cells": [
  {
   "cell_type": "markdown",
   "metadata": {},
   "source": [
    "# Create a random number generator that is uniformly distributed"
   ]
  },
  {
   "cell_type": "markdown",
   "metadata": {},
   "source": [
    "## Create a basic random number generator for range (0.0 to 1.0)"
   ]
  },
  {
   "cell_type": "markdown",
   "metadata": {},
   "source": [
    "### Create a basic seed generator that uses current timestamp"
   ]
  },
  {
   "cell_type": "code",
   "execution_count": 203,
   "metadata": {},
   "outputs": [],
   "source": [
    "import time\n",
    "def getSeed(x1:int = 1234, x2:int = 3456 , x3:int = 6789):\n",
    "    a = int(time.time() * 1000) #Get current time as millisecond\n",
    "    x = a % x1\n",
    "    y = a % x2\n",
    "    z = a % x3\n",
    "    return x if x != 0 else x1,y if y!= 0 else x2,z if z!= 0 else x3"
   ]
  },
  {
   "cell_type": "markdown",
   "metadata": {},
   "source": [
    "### Create an uniformly distributed random generator with Wichmann–Hill Algorithm"
   ]
  },
  {
   "cell_type": "code",
   "execution_count": 204,
   "metadata": {},
   "outputs": [],
   "source": [
    "def random(seed:[int]):\n",
    "    x = (171 * seed[0]) % 30269\n",
    "    y = (172 * seed[1]) % 30307\n",
    "    z = (170 * seed[2]) % 30323\n",
    "    return (x/30269 + y/30307 + z/30323) % 1"
   ]
  },
  {
   "cell_type": "code",
   "execution_count": 205,
   "metadata": {},
   "outputs": [
    {
     "data": {
      "text/plain": [
       "0.002975423408943856"
      ]
     },
     "execution_count": 205,
     "metadata": {},
     "output_type": "execute_result"
    }
   ],
   "source": [
    "random(getSeed())"
   ]
  },
  {
   "cell_type": "markdown",
   "metadata": {},
   "source": [
    "## Create a uniform distribuation based random number in range a,b"
   ]
  },
  {
   "cell_type": "code",
   "execution_count": 206,
   "metadata": {},
   "outputs": [],
   "source": [
    "def uniform(a,b,seed):\n",
    "    return a + (b-a) * random(seed)"
   ]
  },
  {
   "cell_type": "code",
   "execution_count": 211,
   "metadata": {},
   "outputs": [
    {
     "name": "stdout",
     "output_type": "stream",
     "text": [
      "[8364, 16576, 16813, 16811, 16857, 16518, 16424, 16566, 16685, 8385]\n"
     ]
    },
    {
     "data": {
      "text/plain": [
       "[<matplotlib.lines.Line2D at 0x27f808e1f08>]"
      ]
     },
     "execution_count": 211,
     "metadata": {},
     "output_type": "execute_result"
    },
    {
     "data": {
      "image/png": "[encoded data removed]",
      "text/plain": [
       "<Figure size 432x288 with 1 Axes>"
      ]
     },
     "metadata": {
      "needs_background": "light"
     },
     "output_type": "display_data"
    }
   ],
   "source": [
    "x = [ 0 for x in range(10)]\n",
    "dx = []\n",
    "for i in range(1,150000,1):\n",
    "    d = (round(uniform(1,10,getSeed(i,i,i))))\n",
    "    dx.append(d)\n",
    "    x[d-1] = x[d-1] + 1\n",
    "print(x)\n",
    "plt.plot(range(0,10),x)"
   ]
  },
  {
   "cell_type": "markdown",
   "metadata": {},
   "source": [
    "#### Decrease the number of trial"
   ]
  },
  {
   "cell_type": "code",
   "execution_count": 197,
   "metadata": {},
   "outputs": [
    {
     "name": "stdout",
     "output_type": "stream",
     "text": [
      "[9, 11, 9, 13, 20, 21, 22, 18, 18, 8]\n"
     ]
    },
    {
     "data": {
      "text/plain": [
       "[<matplotlib.lines.Line2D at 0x27f806ad488>]"
      ]
     },
     "execution_count": 197,
     "metadata": {},
     "output_type": "execute_result"
    },
    {
     "data": {
      "image/png": "[encoded data removed]",
      "text/plain": [
       "<Figure size 432x288 with 1 Axes>"
      ]
     },
     "metadata": {
      "needs_background": "light"
     },
     "output_type": "display_data"
    }
   ],
   "source": [
    "x = [ 0 for x in range(10)]\n",
    "dx = []\n",
    "for i in range(1,150,1):\n",
    "    d = (round(uniform(1,10,getSeed(i*1234,i*2345,i*3456))))\n",
    "    dx.append(d)\n",
    "    x[d-1] = x[d-1] + 1\n",
    "print(x)\n",
    "plt.plot(range(0,10),x)"
   ]
  },
  {
   "cell_type": "code",
   "execution_count": null,
   "metadata": {},
   "outputs": [],
   "source": []
  }
 ],
 "metadata": {
  "kernelspec": {
   "display_name": "Python 3",
   "language": "python",
   "name": "python3"
  },
  "language_info": {
   "codemirror_mode": {
    "name": "ipython",
    "version": 3
   },
   "file_extension": ".py",
   "mimetype": "text/x-python",
   "name": "python",
   "nbconvert_exporter": "python",
   "pygments_lexer": "ipython3",
   "version": "3.7.6"
  }
 },
 "nbformat": 4,
 "nbformat_minor": 4
}
