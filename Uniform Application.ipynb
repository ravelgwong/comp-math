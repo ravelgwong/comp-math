{
 "cells": [
  {
   "cell_type": "markdown",
   "metadata": {},
   "source": [
    "# Create a random number generator that is uniformly distributed"
   ]
  },
  {
   "cell_type": "markdown",
   "metadata": {},
   "source": [
    "## Import the required library"
   ]
  },
  {
   "cell_type": "code",
   "execution_count": 10,
   "metadata": {},
   "outputs": [],
   "source": [
    "import time\n",
    "import numpy as np\n",
    "import matplotlib.pyplot as plt\n",
    "from ipywidgets import widgets\n",
    "from IPython.display import display,clear_output"
   ]
  },
  {
   "cell_type": "markdown",
   "metadata": {},
   "source": [
    "## Create a basic random number generator for range (0.0 to 1.0)"
   ]
  },
  {
   "cell_type": "markdown",
   "metadata": {},
   "source": [
    "### Create a basic seed generator that uses current timestamp"
   ]
  },
  {
   "cell_type": "code",
   "execution_count": 11,
   "metadata": {},
   "outputs": [],
   "source": [
    "def getSeed(x1:int = 1234, x2:int = 3456 , x3:int = 6789):\n",
    "    a = int(time.time() * 1000) #Get current time as millisecond\n",
    "    x = a % x1\n",
    "    y = a % x2\n",
    "    z = a % x3\n",
    "    return x if x != 0 else x1,y if y!= 0 else x2,z if z!= 0 else x3"
   ]
  },
  {
   "cell_type": "markdown",
   "metadata": {},
   "source": [
    "### Create an uniformly distributed random generator with Wichmann–Hill Algorithm"
   ]
  },
  {
   "cell_type": "code",
   "execution_count": 12,
   "metadata": {},
   "outputs": [],
   "source": [
    "def random(seed:[int]):\n",
    "    x = (171 * seed[0]) % 30269\n",
    "    y = (172 * seed[1]) % 30307\n",
    "    z = (170 * seed[2]) % 30323\n",
    "    return (x/30269 + y/30307 + z/30323) % 1"
   ]
  },
  {
   "cell_type": "code",
   "execution_count": 13,
   "metadata": {},
   "outputs": [
    {
     "data": {
      "text/plain": [
       "0.38479537497092875"
      ]
     },
     "execution_count": 13,
     "metadata": {},
     "output_type": "execute_result"
    }
   ],
   "source": [
    "# Try the random generator based on the time seed.\n",
    "random(getSeed())"
   ]
  },
  {
   "cell_type": "markdown",
   "metadata": {},
   "source": [
    "## Create a uniform distribuation based random number in range a,b"
   ]
  },
  {
   "cell_type": "code",
   "execution_count": 14,
   "metadata": {},
   "outputs": [],
   "source": [
    "def uniform(a,b,seed):\n",
    "    return a + (b-a) * random(seed)"
   ]
  },
  {
   "cell_type": "code",
   "execution_count": 46,
   "metadata": {},
   "outputs": [
    {
     "data": {
      "text/plain": [
       "[<matplotlib.lines.Line2D at 0x1cc5ad2c5c8>]"
      ]
     },
     "execution_count": 46,
     "metadata": {},
     "output_type": "execute_result"
    },
    {
     "data": {
      "image/png": "[encoded data removed]",
      "text/plain": [
       "<Figure size 432x288 with 1 Axes>"
      ]
     },
     "metadata": {
      "needs_background": "light"
     },
     "output_type": "display_data"
    }
   ],
   "source": [
    "x = []\n",
    "for i in range(1,100000,1):\n",
    "    d = (uniform(4,17,getSeed(i,i+1,i+2)))\n",
    "    x.append(d)\n",
    "plt.hist(x,density = 2, bins = 17-4)\n",
    "plt.plot(x, [1/(17-4) for x in range(len(x))],lw =3)"
   ]
  },
  {
   "cell_type": "markdown",
   "metadata": {},
   "source": [
    "#### Decrease the number of trial"
   ]
  },
  {
   "cell_type": "code",
   "execution_count": 45,
   "metadata": {},
   "outputs": [
    {
     "data": {
      "text/plain": [
       "[<matplotlib.lines.Line2D at 0x1cc5a188c48>]"
      ]
     },
     "execution_count": 45,
     "metadata": {},
     "output_type": "execute_result"
    },
    {
     "data": {
      "image/png": "[encoded data removed]",
      "text/plain": [
       "<Figure size 432x288 with 1 Axes>"
      ]
     },
     "metadata": {
      "needs_background": "light"
     },
     "output_type": "display_data"
    }
   ],
   "source": [
    "x = []\n",
    "for i in range(1,100,1):\n",
    "    d = (uniform(0,11,getSeed(i,i+1,i+2)))\n",
    "    x.append(d)\n",
    "plt.hist(x,density = 3, bins = 11)\n",
    "plt.plot(x, [1/(11-0) for x in range(len(x))],lw =3)"
   ]
  },
  {
   "cell_type": "markdown",
   "metadata": {},
   "source": [
    "# Try it yourself"
   ]
  },
  {
   "cell_type": "markdown",
   "metadata": {},
   "source": [
    "## Create a random number that is uniformly distributed"
   ]
  },
  {
   "cell_type": "code",
   "execution_count": 18,
   "metadata": {},
   "outputs": [
    {
     "data": {
      "application/vnd.jupyter.widget-view+json": {
       "model_id": "0e5c58e5bf92454fa48020615f685250",
       "version_major": 2,
       "version_minor": 0
      },
      "text/plain": [
       "IntSlider(value=0, description='Lower Bound:', max=50)"
      ]
     },
     "metadata": {},
     "output_type": "display_data"
    },
    {
     "data": {
      "application/vnd.jupyter.widget-view+json": {
       "model_id": "c7baad84ee504ff48d5c75a8593dfd76",
       "version_major": 2,
       "version_minor": 0
      },
      "text/plain": [
       "IntSlider(value=10, description='Lower Bound:', max=50)"
      ]
     },
     "metadata": {},
     "output_type": "display_data"
    },
    {
     "data": {
      "application/vnd.jupyter.widget-view+json": {
       "model_id": "ff1f030503ac496a962872997ffb7037",
       "version_major": 2,
       "version_minor": 0
      },
      "text/plain": [
       "Button(description='Get Random', style=ButtonStyle())"
      ]
     },
     "metadata": {},
     "output_type": "display_data"
    },
    {
     "data": {
      "application/vnd.jupyter.widget-view+json": {
       "model_id": "7e95cd8533904fb381175a5b0dedafaf",
       "version_major": 2,
       "version_minor": 0
      },
      "text/plain": [
       "HTML(value='', description='Result:', placeholder='Result:')"
      ]
     },
     "metadata": {},
     "output_type": "display_data"
    }
   ],
   "source": [
    "lower = widgets.IntSlider(\n",
    "    min=0,\n",
    "    max=50,\n",
    "    step=1,\n",
    "    description='Lower Bound:',\n",
    "    value=0\n",
    ")\n",
    "upper = widgets.IntSlider(\n",
    "    min=0,\n",
    "    max=50,\n",
    "    step=1,\n",
    "    description='Upper Bound:',\n",
    "    value=10\n",
    ")\n",
    "\n",
    "res = widgets.HTML(\n",
    "    value=\"\",\n",
    "    placeholder='Result:',\n",
    "    description='Result:',\n",
    ")\n",
    "btn = widgets.Button(description='Get Random')\n",
    "\n",
    "display(lower)\n",
    "display(upper)\n",
    "display(btn)\n",
    "display(res)\n",
    "def btn_eventhandler(obj):\n",
    "    if not(lower.value >= upper.value):\n",
    "        res.value = str(uniform(lower.value,upper.value,getSeed()))\n",
    "    else:\n",
    "        res.value = str('Upper bound should be higher than lower bound')\n",
    "btn.on_click(btn_eventhandler)"
   ]
  },
  {
   "cell_type": "code",
   "execution_count": 47,
   "metadata": {},
   "outputs": [
    {
     "data": {
      "application/vnd.jupyter.widget-view+json": {
       "model_id": "86d80908175f412694e8494f686a4a72",
       "version_major": 2,
       "version_minor": 0
      },
      "text/plain": [
       "Tab(children=(Output(), Output()), _titles={'0': 'Settings', '1': 'Result'})"
      ]
     },
     "metadata": {},
     "output_type": "display_data"
    }
   ],
   "source": [
    "lower = widgets.IntSlider(\n",
    "    min=0,\n",
    "    max=50,\n",
    "    step=1,\n",
    "    description='Lower Bound:',\n",
    "    value=0\n",
    ")\n",
    "upper = widgets.IntSlider(\n",
    "    min=0,\n",
    "    max=50,\n",
    "    step=1,\n",
    "    description='Upper Bound:',\n",
    "    value=10\n",
    ")\n",
    "rep = widgets.IntSlider(\n",
    "    min=100,\n",
    "    max=10000,\n",
    "    step=1,\n",
    "    description='Repetition:',\n",
    "    value=10\n",
    ")\n",
    "\n",
    "p = widgets.IntProgress(\n",
    "    value=0,\n",
    "    min=0,\n",
    "    max=10,\n",
    "    step=1,\n",
    "    description='Calculating:',\n",
    "    bar_style='success',\n",
    "    orientation='horizontal'\n",
    ")\n",
    "btn = widgets.Button(description='Display')\n",
    "cal:bool = False\n",
    "\n",
    "res = widgets.HTML(\n",
    "    value=\"\",\n",
    ")\n",
    "\n",
    "\n",
    "out1 = widgets.Output()\n",
    "out2 = widgets.Output()\n",
    "tab = widgets.Tab(children = [out1, out2])\n",
    "tab.set_title(0, 'Settings')\n",
    "tab.set_title(1, 'Result')\n",
    "display(tab)\n",
    "with out1:\n",
    "    display(res)\n",
    "    display(btn)\n",
    "    display(lower)\n",
    "    display(upper)\n",
    "    display(rep)\n",
    "    display(p)\n",
    "\n",
    "def btn_eventhandler(obj):\n",
    "    x = []\n",
    "    if not(lower.value >= upper.value):\n",
    "        with out2:\n",
    "            clear_output()\n",
    "            res.value=''\n",
    "            p.max = rep.value\n",
    "            p.text='Calculating'\n",
    "            print('Upper Bound: '+str(upper.value))\n",
    "            print('Lower Bound:' + str(lower.value))\n",
    "            for i in range(1,rep.value + 1,1):\n",
    "                d = (uniform(lower.value,upper.value,getSeed(i,i+1,i+2)))\n",
    "                x.append(d)\n",
    "                p.value = i\n",
    "            p.value = 0\n",
    "            p.text='Done'\n",
    "            %matplotlib inline\n",
    "            fig,ax = plt.subplots()\n",
    "            ax.hist(x,density = 2,bins=(int(upper.value)-int(lower.value)))\n",
    "            ax.plot(x, [1/(upper.value-lower.value) for x in range(rep.value)],lw=3)\n",
    "            plt.show(fig)\n",
    "    else:\n",
    "        res.value = str('Upper bound should be higher than lower bound')\n",
    "btn.on_click(btn_eventhandler)"
   ]
  },
  {
   "cell_type": "code",
   "execution_count": null,
   "metadata": {},
   "outputs": [],
   "source": []
  }
 ],
 "metadata": {
  "kernelspec": {
   "display_name": "Python 3",
   "language": "python",
   "name": "python3"
  },
  "language_info": {
   "codemirror_mode": {
    "name": "ipython",
    "version": 3
   },
   "file_extension": ".py",
   "mimetype": "text/x-python",
   "name": "python",
   "nbconvert_exporter": "python",
   "pygments_lexer": "ipython3",
   "version": "3.7.6"
  }
 },
 "nbformat": 4,
 "nbformat_minor": 4
}
