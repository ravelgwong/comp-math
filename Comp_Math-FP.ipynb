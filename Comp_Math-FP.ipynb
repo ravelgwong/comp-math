{
 "cells": [
  {
   "cell_type": "markdown",
   "metadata": {},
   "source": [
    "# Uniform Distribution & Normal Distribution\n"
   ]
  },
  {
   "cell_type": "markdown",
   "metadata": {},
   "source": [
    "## Introduction\n",
    "In this notebook we are going to explain about normal and uniform distributions with it's apllications."
   ]
  },
  {
   "cell_type": "markdown",
   "metadata": {},
   "source": [
    "## Uniform Distribution\n",
    "*uniform distribution* or *rectangular distribution* is a distribution that has constant probability. Uniform distribution is defined by 2 parameters:\n",
    "- a, the minimum value\n",
    "- b, the maximum value\n",
    "\n",
    "It also has mean value, standard deviation value and also the number of slices between a and b. "
   ]
  },
  {
   "cell_type": "code",
   "execution_count": 2,
   "metadata": {},
   "outputs": [
    {
     "data": {
      "text/html": [
       "<img src=\"https://raw.githubusercontent.com/ravelgwong/comp-math/master/comp-math-img.png\">\n"
      ],
      "text/plain": [
       "<IPython.core.display.HTML object>"
      ]
     },
     "metadata": {},
     "output_type": "display_data"
    }
   ],
   "source": [
    "%%html\n",
    "<img src=\"https://raw.githubusercontent.com/ravelgwong/comp-math/master/comp-math-img.png\">"
   ]
  },
  {
   "cell_type": "markdown",
   "metadata": {},
   "source": [
    "On the picture above, we can get the height from this formula :\n",
    "    $ \\frac{1}{b-a} $  "
   ]
  },
  {
   "cell_type": "markdown",
   "metadata": {},
   "source": [
    "b on this image is 30 and a is 0 so we can get: <br> $ \\frac{1}{30-0} $ = $ \\frac{1}{30} $"
   ]
  },
  {
   "cell_type": "markdown",
   "metadata": {},
   "source": [
    "Then, We have 2 ways to get the probability of the blue square which are calculus and .....          "
   ]
  },
  {
   "cell_type": "markdown",
   "metadata": {},
   "source": [
    "For the calculus, the formula is: $\\int_a^b height$"
   ]
  },
  {
   "cell_type": "markdown",
   "metadata": {},
   "source": [
    "In this formula, b is the maximum value of the square and a is the minimum value of the square. Thus, we will get this:\n",
    "$\\int_10^20 \\frac{1}{30}$\n",
    "<br>\n",
    "$\\frac{1}{30} 20 - \\frac{1}{30} 10$ \n",
    "<br>\n",
    "<br>\n",
    "$\\frac{10}{30}$\n"
   ]
  },
  {
   "cell_type": "markdown",
   "metadata": {},
   "source": [
    "The second way is the easiest one. So, you only have to multiply the height with the difference between a and b of the blue square. The formula is:\n",
    "<br>\n",
    "$ \\frac{1}{height} (b-a) $  \n"
   ]
  },
  {
   "cell_type": "markdown",
   "metadata": {},
   "source": [
    "Thus, we can get the probability by using those formula\n",
    "<br>\n",
    "$ \\frac{1}{30} (20-10) $ \n",
    "<br>\n",
    "$\\frac{10}{30}$"
   ]
  },
  {
   "cell_type": "markdown",
   "metadata": {},
   "source": [
    "# Uniform Distribution Application"
   ]
  },
  {
   "cell_type": "markdown",
   "metadata": {},
   "source": [
    "# Create a random number generator that is uniformly distributed"
   ]
  },
  {
   "cell_type": "markdown",
   "metadata": {},
   "source": [
    "## Import the required library"
   ]
  },
  {
   "cell_type": "code",
   "execution_count": 3,
   "metadata": {},
   "outputs": [],
   "source": [
    "import time\n",
    "import numpy as np\n",
    "import matplotlib.pyplot as plt\n",
    "from ipywidgets import widgets\n",
    "from IPython.display import display,clear_output"
   ]
  },
  {
   "cell_type": "markdown",
   "metadata": {},
   "source": [
    "## Create a basic random number generator for range (0.0 to 1.0)"
   ]
  },
  {
   "cell_type": "markdown",
   "metadata": {},
   "source": [
    "### Create a basic seed generator that uses current timestamp"
   ]
  },
  {
   "cell_type": "code",
   "execution_count": 4,
   "metadata": {},
   "outputs": [],
   "source": [
    "def getSeed(x1:int = 1234, x2:int = 3456 , x3:int = 6789):\n",
    "    a = int(time.time() * 1000) #Get current time as millisecond\n",
    "    x = a % x1\n",
    "    y = a % x2\n",
    "    z = a % x3\n",
    "    return x if x != 0 else x1,y if y!= 0 else x2,z if z!= 0 else x3"
   ]
  },
  {
   "cell_type": "markdown",
   "metadata": {},
   "source": [
    "### Create an uniformly distributed random generator with Wichmann–Hill Algorithm"
   ]
  },
  {
   "cell_type": "code",
   "execution_count": 5,
   "metadata": {},
   "outputs": [],
   "source": [
    "def random(seed:[int]):\n",
    "    x = (171 * seed[0]) % 30269\n",
    "    y = (172 * seed[1]) % 30307\n",
    "    z = (170 * seed[2]) % 30323\n",
    "    return (x/30269 + y/30307 + z/30323) % 1"
   ]
  },
  {
   "cell_type": "code",
   "execution_count": 6,
   "metadata": {},
   "outputs": [
    {
     "data": {
      "text/plain": [
       "0.5176287992986444"
      ]
     },
     "execution_count": 6,
     "metadata": {},
     "output_type": "execute_result"
    }
   ],
   "source": [
    "# Try the random generator based on the time seed.\n",
    "random(getSeed())"
   ]
  },
  {
   "cell_type": "markdown",
   "metadata": {},
   "source": [
    "## Create a uniform distribuation based random number in range a,b"
   ]
  },
  {
   "cell_type": "code",
   "execution_count": 7,
   "metadata": {},
   "outputs": [],
   "source": [
    "def uniform(a,b,seed):\n",
    "    return a + (b-a) * random(seed)"
   ]
  },
  {
   "cell_type": "code",
   "execution_count": 8,
   "metadata": {},
   "outputs": [
    {
     "data": {
      "text/plain": [
       "[<matplotlib.lines.Line2D at 0x232bf4197c8>]"
      ]
     },
     "execution_count": 8,
     "metadata": {},
     "output_type": "execute_result"
    },
    {
     "data": {
      "image/png": "[encoded data removed]",
      "text/plain": [
       "<Figure size 432x288 with 1 Axes>"
      ]
     },
     "metadata": {
      "needs_background": "light"
     },
     "output_type": "display_data"
    }
   ],
   "source": [
    "x = []\n",
    "for i in range(1,100000,1):\n",
    "    d = (uniform(4,17,getSeed(i,i+1,i+2)))\n",
    "    x.append(d)\n",
    "plt.hist(x,density = 2, bins = 17-4)\n",
    "plt.plot(x, [1/(17-4) for x in range(len(x))],lw =3)"
   ]
  },
  {
   "cell_type": "markdown",
   "metadata": {},
   "source": [
    "#### Decrease the number of trial"
   ]
  },
  {
   "cell_type": "code",
   "execution_count": 9,
   "metadata": {},
   "outputs": [
    {
     "data": {
      "text/plain": [
       "[<matplotlib.lines.Line2D at 0x232bc5b2488>]"
      ]
     },
     "execution_count": 9,
     "metadata": {},
     "output_type": "execute_result"
    },
    {
     "data": {
      "image/png": "[encoded data removed]",
      "text/plain": [
       "<Figure size 432x288 with 1 Axes>"
      ]
     },
     "metadata": {
      "needs_background": "light"
     },
     "output_type": "display_data"
    }
   ],
   "source": [
    "x = []\n",
    "for i in range(1,100,1):\n",
    "    d = (uniform(0,11,getSeed(i,i+1,i+2)))\n",
    "    x.append(d)\n",
    "plt.hist(x,density = 3, bins = 11)\n",
    "plt.plot(x, [1/(11-0) for x in range(len(x))],lw =3)"
   ]
  },
  {
   "cell_type": "markdown",
   "metadata": {},
   "source": [
    "# Try it yourself"
   ]
  },
  {
   "cell_type": "markdown",
   "metadata": {},
   "source": [
    "## Create a random number that is uniformly distributed"
   ]
  },
  {
   "cell_type": "code",
   "execution_count": 10,
   "metadata": {},
   "outputs": [
    {
     "data": {
      "application/vnd.jupyter.widget-view+json": {
       "model_id": "05dd020df71b4bef8632a2daaaa00b3e",
       "version_major": 2,
       "version_minor": 0
      },
      "text/plain": [
       "IntSlider(value=0, description='Lower Bound:', max=50)"
      ]
     },
     "metadata": {},
     "output_type": "display_data"
    },
    {
     "data": {
      "application/vnd.jupyter.widget-view+json": {
       "model_id": "10055d1178a34ab0947cd71bdda1742f",
       "version_major": 2,
       "version_minor": 0
      },
      "text/plain": [
       "IntSlider(value=10, description='Lower Bound:', max=50)"
      ]
     },
     "metadata": {},
     "output_type": "display_data"
    },
    {
     "data": {
      "application/vnd.jupyter.widget-view+json": {
       "model_id": "3970da78349140399602f3d4f52130f6",
       "version_major": 2,
       "version_minor": 0
      },
      "text/plain": [
       "Button(description='Get Random', style=ButtonStyle())"
      ]
     },
     "metadata": {},
     "output_type": "display_data"
    },
    {
     "data": {
      "application/vnd.jupyter.widget-view+json": {
       "model_id": "11a768d3081b4e9bb06e850561abc409",
       "version_major": 2,
       "version_minor": 0
      },
      "text/plain": [
       "HTML(value='', description='Result:', placeholder='Result:')"
      ]
     },
     "metadata": {},
     "output_type": "display_data"
    }
   ],
   "source": [
    "lower = widgets.IntSlider(\n",
    "    min=0,\n",
    "    max=50,\n",
    "    step=1,\n",
    "    description='Lower Bound:',\n",
    "    value=0\n",
    ")\n",
    "upper = widgets.IntSlider(\n",
    "    min=0,\n",
    "    max=50,\n",
    "    step=1,\n",
    "    description='Lower Bound:',\n",
    "    value=10\n",
    ")\n",
    "\n",
    "res = widgets.HTML(\n",
    "    value=\"\",\n",
    "    placeholder='Result:',\n",
    "    description='Result:',\n",
    ")\n",
    "btn = widgets.Button(description='Get Random')\n",
    "\n",
    "display(lower)\n",
    "display(upper)\n",
    "display(btn)\n",
    "display(res)\n",
    "def btn_eventhandler(obj):\n",
    "    if not(lower.value >= upper.value):\n",
    "        res.value = str(uniform(lower.value,upper.value,getSeed()))\n",
    "    else:\n",
    "        res.value = str('Upper bound should be higher than lower bound')\n",
    "btn.on_click(btn_eventhandler)"
   ]
  },
  {
   "cell_type": "code",
   "execution_count": 16,
   "metadata": {},
   "outputs": [
    {
     "data": {
      "application/vnd.jupyter.widget-view+json": {
       "model_id": "7504203668364fe4bba7f5f45f6393ac",
       "version_major": 2,
       "version_minor": 0
      },
      "text/plain": [
       "Tab(children=(Output(), Output()), _titles={'0': 'Settings', '1': 'Result'})"
      ]
     },
     "metadata": {},
     "output_type": "display_data"
    }
   ],
   "source": [
    "lower = widgets.IntSlider(\n",
    "    min=0,\n",
    "    max=50,\n",
    "    step=1,\n",
    "    description='Lower Bound:',\n",
    "    value=0\n",
    ")\n",
    "upper = widgets.IntSlider(\n",
    "    min=0,\n",
    "    max=50,\n",
    "    step=1,\n",
    "    description='Upper Bound:',\n",
    "    value=10\n",
    ")\n",
    "rep = widgets.IntSlider(\n",
    "    min=100,\n",
    "    max=2500,\n",
    "    step=1,\n",
    "    description='Repetition:',\n",
    "    value=10\n",
    ")\n",
    "\n",
    "p = widgets.IntProgress(\n",
    "    value=0,\n",
    "    min=0,\n",
    "    max=10,\n",
    "    step=1,\n",
    "    description='Calculating:',\n",
    "    bar_style='success',\n",
    "    orientation='horizontal'\n",
    ")\n",
    "btn = widgets.Button(description='Display')\n",
    "cal:bool = False\n",
    "\n",
    "res = widgets.HTML(\n",
    "    value=\"\",\n",
    ")\n",
    "\n",
    "\n",
    "out1 = widgets.Output()\n",
    "out2 = widgets.Output()\n",
    "tab = widgets.Tab(children = [out1, out2])\n",
    "tab.set_title(0, 'Settings')\n",
    "tab.set_title(1, 'Result')\n",
    "display(tab)\n",
    "with out1:\n",
    "    display(res)\n",
    "    display(btn)\n",
    "    display(lower)\n",
    "    display(upper)\n",
    "    display(rep)\n",
    "    display(p)\n",
    "\n",
    "def btn_eventhandler(obj):\n",
    "    x = []\n",
    "    if not(lower.value >= upper.value):\n",
    "        with out2:\n",
    "            clear_output()\n",
    "            res.value=''\n",
    "            p.max = rep.value\n",
    "            p.text='Calculating'\n",
    "            print('Upper Bound: '+str(upper.value))\n",
    "            print('Lower Bound:' + str(lower.value))\n",
    "            for i in range(1,rep.value + 1,1):\n",
    "                d = (uniform(lower.value,upper.value,getSeed(i,i+1,i+2)))\n",
    "                x.append(d)\n",
    "                p.value = i\n",
    "            p.value = 0\n",
    "            p.text='Done'\n",
    "            %matplotlib inline\n",
    "            fig,ax = plt.subplots()\n",
    "            ax.hist(x,density = 2,bins=(int(upper.value)-int(lower.value)))\n",
    "            ax.plot(x, [1/(upper.value-lower.value) for x in range(rep.value)],lw=3)\n",
    "            plt.show(fig)\n",
    "    else:\n",
    "        res.value = str('Upper bound should be higher than lower bound')\n",
    "btn.on_click(btn_eventhandler)"
   ]
  },
  {
   "cell_type": "markdown",
   "metadata": {},
   "source": [
    "## Normal Distribution"
   ]
  },
  {
   "cell_type": "markdown",
   "metadata": {},
   "source": [
    "*Normal distribution* or *Gaussian distribution* is a probability distribution that is symmetric about the mean, showing that data near the mean are more frequent in occurrence than data far from the mean. In graph form, normal distribution will appear as a bell curve."
   ]
  },
  {
   "cell_type": "markdown",
   "metadata": {},
   "source": [
    "The graph of Normal Distribution is depend on standard deviation and also mean of the data. Mean of the data determines location of the graph while standard deviation determines the height and width of the graph. If the standard deviation is small, the curve will be tall and narrow. Otherwise, it will be short and wide."
   ]
  },
  {
   "cell_type": "code",
   "execution_count": 3,
   "metadata": {},
   "outputs": [
    {
     "data": {
      "text/html": [
       "<img src=\"https://raw.githubusercontent.com/ravelgwong/comp-math/master/normal-dist.png\">\n"
      ],
      "text/plain": [
       "<IPython.core.display.HTML object>"
      ]
     },
     "metadata": {},
     "output_type": "display_data"
    }
   ],
   "source": [
    "%%html\n",
    "<img src=\"https://raw.githubusercontent.com/ravelgwong/comp-math/master/normal-dist.png\">"
   ]
  },
  {
   "cell_type": "markdown",
   "metadata": {},
   "source": [
    "# Normal Distribution Application"
   ]
  },
  {
   "cell_type": "markdown",
   "metadata": {},
   "source": [
    "## Import the required library"
   ]
  },
  {
   "cell_type": "code",
   "execution_count": 12,
   "metadata": {},
   "outputs": [],
   "source": [
    "import ipywidgets as widgets\n",
    "from scipy import stats\n",
    "import numpy as np\n",
    "import matplotlib.pyplot as plt"
   ]
  },
  {
   "cell_type": "markdown",
   "metadata": {},
   "source": [
    "## Use of interactive to link the graph method and the slider"
   ]
  },
  {
   "cell_type": "code",
   "execution_count": 13,
   "metadata": {},
   "outputs": [
    {
     "data": {
      "application/vnd.jupyter.widget-view+json": {
       "model_id": "859fc8f101cc4a4e9d263526cfd864e7",
       "version_major": 2,
       "version_minor": 0
      },
      "text/plain": [
       "interactive(children=(FloatSlider(value=150.0, description='Mean', max=300.0), FloatSlider(value=50.0, descrip…"
      ]
     },
     "metadata": {},
     "output_type": "display_data"
    }
   ],
   "source": [
    "def update_plot(x_mean, x_std, x_total):\n",
    "    plt.style.use(\"ggplot\")\n",
    "    fig = plt.figure(1); plt.clf()\n",
    "    ax = fig.add_subplot(1,1,1)\n",
    "    x = np.random.normal(x_mean, x_std, x_total)\n",
    "    domain = np.linspace(-200, 500, x_total)\n",
    "    ax.hist(x, rwidth = 0.9, density = True, label = \"Data\")\n",
    "    ax.plot(domain, stats.norm.pdf(domain,x_mean,x_std), label = \"Estimated\")\n",
    "    ax.legend()\n",
    "    plt.show()\n",
    "\n",
    "x_mean = widgets.FloatSlider(min=0, max=300,value=150,description=\"Mean\")\n",
    "x_std = widgets.FloatSlider(min=10, max=100,value=50,description=\"Standard deviation\")\n",
    "x_total = widgets.IntSlider(min=10, max=1000,value=500,description=\"Total data\")\n",
    "\n",
    "widgets.interactive(update_plot, x_mean=x_mean, x_std=x_std, x_total=x_total)"
   ]
  },
  {
   "cell_type": "markdown",
   "metadata": {},
   "source": [
    "You can see that if the mean is low than the graph will show on the left side, if the mean is high than the graph will show on the right. The shape of the graph will change if you change the standard deviation, the lower your standard deviation the higher your graph ,while the higher your standard deviation the graph will be lower and wider. The total data will affect the graph too since having a low data make your graph messy since lack of sample and having more data will make this normal distribution more accurate."
   ]
  },
  {
   "cell_type": "code",
   "execution_count": null,
   "metadata": {},
   "outputs": [],
   "source": []
  }
 ],
 "metadata": {
  "kernelspec": {
   "display_name": "Python 3",
   "language": "python",
   "name": "python3"
  },
  "language_info": {
   "codemirror_mode": {
    "name": "ipython",
    "version": 3
   },
   "file_extension": ".py",
   "mimetype": "text/x-python",
   "name": "python",
   "nbconvert_exporter": "python",
   "pygments_lexer": "ipython3",
   "version": "3.7.4"
  }
 },
 "nbformat": 4,
 "nbformat_minor": 4
}
