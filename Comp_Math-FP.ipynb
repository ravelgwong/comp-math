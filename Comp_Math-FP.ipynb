{
 "cells": [
  {
   "cell_type": "markdown",
   "metadata": {},
   "source": [
    "# Uniform Distribution & Normal Distribution\n"
   ]
  },
  {
   "cell_type": "markdown",
   "metadata": {},
   "source": [
    "## Uniform Distribution\n",
    "*uniform distribution* or *rectangular distribution* is a distribution that has constant probability. Uniform distribution is defined by 2 parameters:\n",
    "- a, the minimum value\n",
    "- b, the maximum value\n",
    "\n",
    "It also has mean value, standard deviation value and also the number of slices between a and b. "
   ]
  },
  {
   "cell_type": "code",
   "execution_count": 2,
   "metadata": {},
   "outputs": [
    {
     "data": {
      "text/html": [
       "<img src=\"https://raw.githubusercontent.com/ravelgwong/comp-math/master/comp-math-img.png\">\n"
      ],
      "text/plain": [
       "<IPython.core.display.HTML object>"
      ]
     },
     "metadata": {},
     "output_type": "display_data"
    }
   ],
   "source": [
    "%%html\n",
    "<img src=\"https://raw.githubusercontent.com/ravelgwong/comp-math/master/comp-math-img.png\">"
   ]
  },
  {
   "cell_type": "markdown",
   "metadata": {},
   "source": [
    "On the picture above, we can get the height from this formula :\n",
    "    $ \\frac{1}{b-a} $  "
   ]
  },
  {
   "cell_type": "markdown",
   "metadata": {},
   "source": [
    "b on this image is 30 and a is 0 so we can get: <br> $ \\frac{1}{30-0} $ = $ \\frac{1}{30} $"
   ]
  },
  {
   "cell_type": "markdown",
   "metadata": {},
   "source": [
    "Then, We have 2 ways to get the probability of the blue square which are calculus and .....          "
   ]
  },
  {
   "cell_type": "markdown",
   "metadata": {},
   "source": [
    "For the calculus, the formula is: $\\int_a^b height$"
   ]
  },
  {
   "cell_type": "markdown",
   "metadata": {},
   "source": [
    "In this formula, b is the maximum value of the square and a is the minimum value of the square. Thus, we will get this:\n",
    "$\\int_10^20 \\frac{1}{30}$\n",
    "<br>\n",
    "$\\frac{1}{30} 20 - \\frac{1}{30} 10$ \n",
    "<br>\n",
    "<br>\n",
    "$\\frac{10}{30}$\n"
   ]
  },
  {
   "cell_type": "markdown",
   "metadata": {},
   "source": [
    "The second way is the easiest one. So, you only have to multiply the height with the difference between a and b of the blue square. The formula is:\n",
    "<br>\n",
    "$ \\frac{1}{height} (b-a) $  \n"
   ]
  },
  {
   "cell_type": "markdown",
   "metadata": {},
   "source": [
    "Thus, we can get the probability by using those formula\n",
    "<br>\n",
    "$ \\frac{1}{30} (20-10) $ \n",
    "<br>\n",
    "$\\frac{10}{30}$"
   ]
  },
  {
   "cell_type": "markdown",
   "metadata": {},
   "source": [
    "## Normal Distribution"
   ]
  },
  {
   "cell_type": "markdown",
   "metadata": {},
   "source": [
    "*Normal distribution* or *Gaussian distribution* is a probability distribution that is symmetric about the mean, showing that data near the mean are more frequent in occurrence than data far from the mean. In graph form, normal distribution will appear as a bell curve."
   ]
  },
  {
   "cell_type": "markdown",
   "metadata": {},
   "source": [
    "The graph of Normal Distribution is depend on standard deviation and also mean of the data. Mean of the data determines location of the graph while standard deviation determines the height and width of the graph. If the standard deviation is small, the curve will be tall and narrow. Otherwise, it will be short and wide."
   ]
  },
  {
   "cell_type": "code",
   "execution_count": 3,
   "metadata": {},
   "outputs": [
    {
     "data": {
      "text/html": [
       "<img src=\"https://raw.githubusercontent.com/ravelgwong/comp-math/master/normal-dist.png\">\n"
      ],
      "text/plain": [
       "<IPython.core.display.HTML object>"
      ]
     },
     "metadata": {},
     "output_type": "display_data"
    }
   ],
   "source": [
    "%%html\n",
    "<img src=\"https://raw.githubusercontent.com/ravelgwong/comp-math/master/normal-dist.png\">"
   ]
  },
  {
   "cell_type": "code",
   "execution_count": null,
   "metadata": {},
   "outputs": [],
   "source": []
  }
 ],
 "metadata": {
  "kernelspec": {
   "display_name": "Python 3",
   "language": "python",
   "name": "python3"
  },
  "language_info": {
   "codemirror_mode": {
    "name": "ipython",
    "version": 3
   },
   "file_extension": ".py",
   "mimetype": "text/x-python",
   "name": "python",
   "nbconvert_exporter": "python",
   "pygments_lexer": "ipython3",
   "version": "3.7.4"
  }
 },
 "nbformat": 4,
 "nbformat_minor": 2
}
